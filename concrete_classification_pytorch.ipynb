{
 "cells": [
  {
   "cell_type": "markdown",
   "metadata": {},
   "source": [
    "Concrete Crack Detection using Convolutional Neural Network"
   ]
  },
  {
   "cell_type": "markdown",
   "metadata": {},
   "source": [
    "This project uses convolutional neural network to classify concrete images with/without significant crack."
   ]
  },
  {
   "cell_type": "markdown",
   "metadata": {},
   "source": [
    "The dataset and images are downloaded from Mendeley Data:\n",
    "\n",
    "Özgenel, Çağlar Fırat (2018), “Concrete Crack Images for Classification”, Mendeley Data, v1 http://dx.doi.org/10.17632/5y9wdsg2zt.1\n",
    "\n",
    "Dataset: Concrete Crack Images for Classification\n",
    "\n",
    "File: Concrete Crack Images for Classification\n",
    "\n",
    "DOI: http://dx.doi.org/10.17632/5y9wdsg2zt.1#file-c0d86f9f-852e-4d00-bf45-9a0e24e3b932"
   ]
  },
  {
   "cell_type": "markdown",
   "metadata": {},
   "source": [
    "Using the Pytorch, a Convolutional Neural Network model was trained on the scaled down images of concrete labeled as \"Positive\" or \"Negative\" for concrete surfaces with/without crack.\n",
    "\n",
    "The dataset consists of 40000 concrete surface images split in 20000 images labeled \"Positive\" and 20000 images labeled \"Negative\". The images have been reduced in size by pre-processing through notebook named image_process."
   ]
  },
  {
   "cell_type": "code",
   "execution_count": 1,
   "metadata": {},
   "outputs": [
    {
     "name": "stdout",
     "output_type": "stream",
     "text": [
      "Importing libraries...\n",
      "Libraries imported!!\n"
     ]
    }
   ],
   "source": [
    "print(\"Importing libraries...\")\n",
    "\n",
    "import torch\n",
    "import torch.nn as nn\n",
    "import torch.nn.functional as F\n",
    "from torchvision import datasets, transforms\n",
    "\n",
    "import numpy as np\n",
    "import pandas as pd\n",
    "from sklearn.metrics import confusion_matrix\n",
    "import matplotlib.pyplot as plt\n",
    "%matplotlib inline\n",
    "\n",
    "import h5py\n",
    "\n",
    "print(\"Libraries imported!!\")"
   ]
  },
  {
   "cell_type": "code",
   "execution_count": 2,
   "metadata": {},
   "outputs": [
    {
     "name": "stdout",
     "output_type": "stream",
     "text": [
      "Loading the data...\n",
      "Data successfully loaded!\n",
      "Scaling the data...!\n",
      "Data successfully scaled!\n"
     ]
    }
   ],
   "source": [
    "#img_size = 32\n",
    "\n",
    "print(\"Loading the data...\")\n",
    "#modify path accordingly\n",
    "hf = h5py.File('.../concrete_crack_image_data.h5', 'r') \n",
    "X = np.array(hf.get('X_concrete'))\n",
    "y = np.array(hf.get('y_concrete'))\n",
    "hf.close()\n",
    "print(\"Data successfully loaded!\")\n",
    "\n",
    "print(\"Scaling the data...!\")\n",
    "X = X / 255\n",
    "print(\"Data successfully scaled!\")"
   ]
  },
  {
   "cell_type": "raw",
   "metadata": {},
   "source": [
    "A convolutional neural network model is used with two fully connected layers. The first convolutional layer has 1 input channels, 6 output channels, a kernel size of 3 (3x3 filter), and a stride length of 1 pixel. The second convolutional layer has 6 input channels, 16 output channels, a kernel size of 3 (3x3 filter), and a stride length of 1 pixel."
   ]
  },
  {
   "cell_type": "code",
   "execution_count": 3,
   "metadata": {},
   "outputs": [],
   "source": [
    "class ConvolutionalNetwork(nn.Module):\n",
    "    def __init__(self):\n",
    "        super().__init__()\n",
    "        self.conv1 = nn.Conv2d(1, 6, 3, 1)  \n",
    "        self.conv2 = nn.Conv2d(6, 16, 3, 1)\n",
    "        self.fc1 = nn.Linear(6*6*16, 100)   \n",
    "        self.fc2 = nn.Linear(100, 2)\n",
    "        #self.dropout = nn.Dropout(1)\n",
    "\n",
    "    def forward(self, X):\n",
    "        X = F.relu(self.conv1(X))\n",
    "        X = F.max_pool2d(X, 2, 2)\n",
    "        X = F.relu(self.conv2(X))\n",
    "        X = F.max_pool2d(X, 2, 2)\n",
    "        X = X.view(-1, 6*6*16)\n",
    "        X = F.relu(self.fc1(X))\n",
    "        X = self.fc2(X)\n",
    "        return F.log_softmax(X, dim=1) "
   ]
  },
  {
   "cell_type": "code",
   "execution_count": 4,
   "metadata": {},
   "outputs": [
    {
     "data": {
      "text/plain": [
       "ConvolutionalNetwork(\n",
       "  (conv1): Conv2d(1, 6, kernel_size=(3, 3), stride=(1, 1))\n",
       "  (conv2): Conv2d(6, 16, kernel_size=(3, 3), stride=(1, 1))\n",
       "  (fc1): Linear(in_features=576, out_features=100, bias=True)\n",
       "  (fc2): Linear(in_features=100, out_features=2, bias=True)\n",
       ")"
      ]
     },
     "execution_count": 4,
     "metadata": {},
     "output_type": "execute_result"
    }
   ],
   "source": [
    "torch.manual_seed(101)\n",
    "model = ConvolutionalNetwork()\n",
    "model"
   ]
  },
  {
   "cell_type": "markdown",
   "metadata": {},
   "source": [
    "Train set and test set preparation"
   ]
  },
  {
   "cell_type": "code",
   "execution_count": 5,
   "metadata": {},
   "outputs": [],
   "source": [
    "from sklearn.model_selection import train_test_split\n",
    "X_train, X_test, y_train, y_test = train_test_split(X, y, test_size=0.33, random_state=101)"
   ]
  },
  {
   "cell_type": "code",
   "execution_count": 6,
   "metadata": {},
   "outputs": [],
   "source": [
    "X_train = torch.tensor(X_train).float()\n",
    "X_train= X_train.view(-1, 1, 32, 32)\n",
    "y_train = torch.tensor(y_train, dtype=torch.long)"
   ]
  },
  {
   "cell_type": "code",
   "execution_count": 7,
   "metadata": {},
   "outputs": [],
   "source": [
    "X_test = torch.tensor(X_test).float()\n",
    "X_test= X_test.view(-1, 1, 32, 32)\n",
    "y_test = torch.tensor(y_test, dtype=torch.long)"
   ]
  },
  {
   "cell_type": "code",
   "execution_count": 8,
   "metadata": {},
   "outputs": [],
   "source": [
    "criterion = nn.CrossEntropyLoss()\n",
    "optimizer = torch.optim.Adam(model.parameters(), lr=0.001)"
   ]
  },
  {
   "cell_type": "markdown",
   "metadata": {},
   "source": [
    "As the runnig time for batch gradient descent is within seconds per run, mini batching was not necessary, but higher number of epochs were used.\n",
    "The format of the pictures are simple compared to complicated object classifications and hence, an acceptable level of testing accurray is achieved without the need to have a cross validation set of data and tuning parameters. "
   ]
  },
  {
   "cell_type": "code",
   "execution_count": 9,
   "metadata": {},
   "outputs": [
    {
     "name": "stdout",
     "output_type": "stream",
     "text": [
      "1 of 100 epochs completed loss:  0.696\n",
      "2 of 100 epochs completed loss:  0.692\n",
      "3 of 100 epochs completed loss:  0.691\n",
      "4 of 100 epochs completed loss:  0.691\n",
      "5 of 100 epochs completed loss:  0.690\n",
      "6 of 100 epochs completed loss:  0.688\n",
      "7 of 100 epochs completed loss:  0.687\n",
      "8 of 100 epochs completed loss:  0.685\n",
      "9 of 100 epochs completed loss:  0.684\n",
      "10 of 100 epochs completed loss:  0.682\n",
      "11 of 100 epochs completed loss:  0.679\n",
      "12 of 100 epochs completed loss:  0.677\n",
      "13 of 100 epochs completed loss:  0.674\n",
      "14 of 100 epochs completed loss:  0.671\n",
      "15 of 100 epochs completed loss:  0.667\n",
      "16 of 100 epochs completed loss:  0.664\n",
      "17 of 100 epochs completed loss:  0.660\n",
      "18 of 100 epochs completed loss:  0.655\n",
      "19 of 100 epochs completed loss:  0.650\n",
      "20 of 100 epochs completed loss:  0.644\n",
      "21 of 100 epochs completed loss:  0.639\n",
      "22 of 100 epochs completed loss:  0.632\n",
      "23 of 100 epochs completed loss:  0.625\n",
      "24 of 100 epochs completed loss:  0.617\n",
      "25 of 100 epochs completed loss:  0.609\n",
      "26 of 100 epochs completed loss:  0.600\n",
      "27 of 100 epochs completed loss:  0.591\n",
      "28 of 100 epochs completed loss:  0.580\n",
      "29 of 100 epochs completed loss:  0.569\n",
      "30 of 100 epochs completed loss:  0.558\n",
      "31 of 100 epochs completed loss:  0.547\n",
      "32 of 100 epochs completed loss:  0.535\n",
      "33 of 100 epochs completed loss:  0.524\n",
      "34 of 100 epochs completed loss:  0.512\n",
      "35 of 100 epochs completed loss:  0.500\n",
      "36 of 100 epochs completed loss:  0.488\n",
      "37 of 100 epochs completed loss:  0.476\n",
      "38 of 100 epochs completed loss:  0.464\n",
      "39 of 100 epochs completed loss:  0.452\n",
      "40 of 100 epochs completed loss:  0.440\n",
      "41 of 100 epochs completed loss:  0.430\n",
      "42 of 100 epochs completed loss:  0.421\n",
      "43 of 100 epochs completed loss:  0.411\n",
      "44 of 100 epochs completed loss:  0.397\n",
      "45 of 100 epochs completed loss:  0.389\n",
      "46 of 100 epochs completed loss:  0.377\n",
      "47 of 100 epochs completed loss:  0.366\n",
      "48 of 100 epochs completed loss:  0.358\n",
      "49 of 100 epochs completed loss:  0.346\n",
      "50 of 100 epochs completed loss:  0.339\n",
      "51 of 100 epochs completed loss:  0.330\n",
      "52 of 100 epochs completed loss:  0.321\n",
      "53 of 100 epochs completed loss:  0.315\n",
      "54 of 100 epochs completed loss:  0.307\n",
      "55 of 100 epochs completed loss:  0.299\n",
      "56 of 100 epochs completed loss:  0.293\n",
      "57 of 100 epochs completed loss:  0.286\n",
      "58 of 100 epochs completed loss:  0.278\n",
      "59 of 100 epochs completed loss:  0.273\n",
      "60 of 100 epochs completed loss:  0.267\n",
      "61 of 100 epochs completed loss:  0.260\n",
      "62 of 100 epochs completed loss:  0.256\n",
      "63 of 100 epochs completed loss:  0.251\n",
      "64 of 100 epochs completed loss:  0.245\n",
      "65 of 100 epochs completed loss:  0.241\n",
      "66 of 100 epochs completed loss:  0.235\n",
      "67 of 100 epochs completed loss:  0.229\n",
      "68 of 100 epochs completed loss:  0.225\n",
      "69 of 100 epochs completed loss:  0.220\n",
      "70 of 100 epochs completed loss:  0.214\n",
      "71 of 100 epochs completed loss:  0.209\n",
      "72 of 100 epochs completed loss:  0.203\n",
      "73 of 100 epochs completed loss:  0.196\n",
      "74 of 100 epochs completed loss:  0.190\n",
      "75 of 100 epochs completed loss:  0.182\n",
      "76 of 100 epochs completed loss:  0.175\n",
      "77 of 100 epochs completed loss:  0.168\n",
      "78 of 100 epochs completed loss:  0.162\n",
      "79 of 100 epochs completed loss:  0.163\n",
      "80 of 100 epochs completed loss:  0.163\n",
      "81 of 100 epochs completed loss:  0.160\n",
      "82 of 100 epochs completed loss:  0.156\n",
      "83 of 100 epochs completed loss:  0.152\n",
      "84 of 100 epochs completed loss:  0.150\n",
      "85 of 100 epochs completed loss:  0.150\n",
      "86 of 100 epochs completed loss:  0.149\n",
      "87 of 100 epochs completed loss:  0.148\n",
      "88 of 100 epochs completed loss:  0.146\n",
      "89 of 100 epochs completed loss:  0.144\n",
      "90 of 100 epochs completed loss:  0.141\n",
      "91 of 100 epochs completed loss:  0.139\n",
      "92 of 100 epochs completed loss:  0.138\n",
      "93 of 100 epochs completed loss:  0.136\n",
      "94 of 100 epochs completed loss:  0.134\n",
      "95 of 100 epochs completed loss:  0.132\n",
      "96 of 100 epochs completed loss:  0.131\n",
      "97 of 100 epochs completed loss:  0.129\n",
      "98 of 100 epochs completed loss:  0.127\n",
      "99 of 100 epochs completed loss:  0.126\n",
      "100 of 100 epochs completed loss:  0.124\n"
     ]
    }
   ],
   "source": [
    "epochs = 100\n",
    "train_losses = []\n",
    "test_losses = []\n",
    "train_correct = []\n",
    "test_correct = []\n",
    "\n",
    "for i in range(epochs):\n",
    "    trn_corr = 0\n",
    "    tst_corr = 0\n",
    "    \n",
    "    # Apply the model\n",
    "    y_pred = model(X_train)  \n",
    "    loss = criterion(y_pred, y_train)\n",
    " \n",
    "    # Counting number of correct predictions\n",
    "    predicted = torch.max(y_pred.data, 1)[1]\n",
    "    batch_corr = (predicted == y_train).sum()\n",
    "    trn_corr += batch_corr\n",
    "        \n",
    "    # Update parameters\n",
    "    optimizer.zero_grad()\n",
    "    loss.backward()\n",
    "    optimizer.step()\n",
    "        \n",
    "    train_losses.append(loss)\n",
    "    train_correct.append(trn_corr)    \n",
    "    \n",
    "    print(f'{i+1} of {epochs} epochs completed', f'loss:{loss:7.3f}')\n",
    "    "
   ]
  },
  {
   "cell_type": "markdown",
   "metadata": {},
   "source": [
    "Evaluating Accuracy of model"
   ]
  },
  {
   "cell_type": "code",
   "execution_count": 10,
   "metadata": {
    "scrolled": true
   },
   "outputs": [
    {
     "name": "stdout",
     "output_type": "stream",
     "text": [
      "Test accuracy: 12586/13200 =  95.348% loss:  0.125\n"
     ]
    }
   ],
   "source": [
    "model.eval()\n",
    "\n",
    "with torch.no_grad():\n",
    "    correct = 0\n",
    "    y_val = model(X_test)  \n",
    "    predicted = torch.max(y_val,1)[1]\n",
    "    correct += (predicted == y_test).sum()\n",
    "loss = criterion(y_val, y_test)\n",
    "print(f'Test accuracy: {correct.item()}/{len(y_test)} = {correct.item()*100/(len(y_test)):7.3f}%', f'loss:{loss:7.3f}')"
   ]
  },
  {
   "cell_type": "markdown",
   "metadata": {},
   "source": [
    "Saving the model"
   ]
  },
  {
   "cell_type": "code",
   "execution_count": 11,
   "metadata": {
    "scrolled": true
   },
   "outputs": [
    {
     "name": "stderr",
     "output_type": "stream",
     "text": [
      "C:\\Users\\mshak\\anaconda3\\envs\\pytorchenv2\\lib\\site-packages\\torch\\serialization.py:256: UserWarning: Couldn't retrieve source code for container of type ConvolutionalNetwork. It won't be checked for correctness upon loading.\n",
      "  \"type \" + obj.__name__ + \". It won't be checked \"\n"
     ]
    }
   ],
   "source": [
    "torch.save(model, 'concrete_class.pt')"
   ]
  },
  {
   "cell_type": "code",
   "execution_count": 12,
   "metadata": {},
   "outputs": [],
   "source": [
    "torch.save(model.state_dict(), 'concrete_classifier.pt')"
   ]
  },
  {
   "cell_type": "code",
   "execution_count": 13,
   "metadata": {},
   "outputs": [],
   "source": [
    "if len(train_losses) == epochs:\n",
    "    torch.save(model.state_dict(), 'concrete_classifier.pt')\n",
    "else:\n",
    "    print('Model has not been trained. Consider loading a trained model instead.')"
   ]
  },
  {
   "cell_type": "markdown",
   "metadata": {},
   "source": [
    "Checking the result for sample photos from positive/negative folder"
   ]
  },
  {
   "cell_type": "code",
   "execution_count": 14,
   "metadata": {},
   "outputs": [],
   "source": [
    "img_size = 32\n",
    "img_to_predict = \"ConcreteImages/Positive/00001.jpg\" "
   ]
  },
  {
   "cell_type": "code",
   "execution_count": 15,
   "metadata": {},
   "outputs": [],
   "source": [
    "# function to return the correct shape from a image path\n",
    "def prepare_image(file):\n",
    "    img = cv2.imread(file, cv2.IMREAD_GRAYSCALE)\n",
    "    img = cv2.resize(img, (img_size, img_size))\n",
    "    image = np.array(img)\n",
    "    image = image/225\n",
    "    image = torch.tensor(image).float()\n",
    "    image= image.view(-1, 1, img_size, img_size)\n",
    "    return image"
   ]
  },
  {
   "cell_type": "code",
   "execution_count": 16,
   "metadata": {},
   "outputs": [],
   "source": [
    "import cv2"
   ]
  },
  {
   "cell_type": "code",
   "execution_count": 17,
   "metadata": {},
   "outputs": [],
   "source": [
    "def condition(img_to_predict):\n",
    "    prepare_image(img_to_predict)\n",
    "    model.eval()\n",
    "    with torch.no_grad():\n",
    "        result = model(prepare_image(img_to_predict)).argmax().item()\n",
    "        if result == 0:\n",
    "            predicted = 'Positive'\n",
    "        else:\n",
    "            predicted = 'Negative'\n",
    "    print('Predicted condition is ', predicted,' for cracking')"
   ]
  },
  {
   "cell_type": "code",
   "execution_count": 18,
   "metadata": {},
   "outputs": [
    {
     "name": "stdout",
     "output_type": "stream",
     "text": [
      "Predicted condition is  Positive  for cracking\n"
     ]
    }
   ],
   "source": [
    "condition(img_to_predict)"
   ]
  },
  {
   "cell_type": "code",
   "execution_count": 19,
   "metadata": {},
   "outputs": [
    {
     "data": {
      "text/plain": [
       "<matplotlib.image.AxesImage at 0x2c0b34dc470>"
      ]
     },
     "execution_count": 19,
     "metadata": {},
     "output_type": "execute_result"
    },
    {
     "data": {
      "image/png": "[encoded data removed]",
      "text/plain": [
       "<Figure size 432x288 with 1 Axes>"
      ]
     },
     "metadata": {
      "needs_background": "light"
     },
     "output_type": "display_data"
    }
   ],
   "source": [
    "plt.imshow(cv2.imread(img_to_predict))"
   ]
  },
  {
   "cell_type": "markdown",
   "metadata": {},
   "source": [
    "The process for checking checking condition of any given square photo is saved in notebook named post_process_pytorch."
   ]
  }
 ],
 "metadata": {
  "kernelspec": {
   "display_name": "Python 3",
   "language": "python",
   "name": "python3"
  },
  "language_info": {
   "codemirror_mode": {
    "name": "ipython",
    "version": 3
   },
   "file_extension": ".py",
   "mimetype": "text/x-python",
   "name": "python",
   "nbconvert_exporter": "python",
   "pygments_lexer": "ipython3",
   "version": "3.7.3"
  }
 },
 "nbformat": 4,
 "nbformat_minor": 4
}
