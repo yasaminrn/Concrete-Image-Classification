{
 "cells": [
  {
   "cell_type": "markdown",
   "metadata": {},
   "source": [
    "This notebook performs pre-process on the training and test image data.\n",
    "The code is obtained from: vbrodrigues/Concrete-Crack-Classification-Model"
   ]
  },
  {
   "cell_type": "code",
   "execution_count": 1,
   "metadata": {},
   "outputs": [
    {
     "name": "stdout",
     "output_type": "stream",
     "text": [
      "Importing libraries...\n",
      "Libraries Imported...\n"
     ]
    }
   ],
   "source": [
    "print(\"Importing libraries...\")\n",
    "\n",
    "import cv2\n",
    "import numpy as np\n",
    "import os\n",
    "import random\n",
    "import h5py  #library is used for reducing the size of photos\n",
    "\n",
    "print(\"Libraries Imported...\")"
   ]
  },
  {
   "cell_type": "code",
   "execution_count": 2,
   "metadata": {},
   "outputs": [],
   "source": [
    "data_directory = \"ConcreteImages/\"  #modify accordingly\n",
    "img_size = 32\n",
    "categories = [\"Positive\", \"Negative\"]\n",
    "data = []"
   ]
  },
  {
   "cell_type": "code",
   "execution_count": 3,
   "metadata": {},
   "outputs": [],
   "source": [
    "def create_data():\n",
    "    for category in categories:\n",
    "        path = os.path.join(data_directory, category)\n",
    "        class_num = categories.index(category)\n",
    "        \n",
    "        # read and resize the images and append to a list with the image and its class number\n",
    "        for img in os.listdir(path):\n",
    "            img_array = cv2.imread(os.path.join(path, img), cv2.IMREAD_GRAYSCALE)\n",
    "            new_array = cv2.resize(img_array, (img_size, img_size))\n",
    "            data.append([new_array, class_num])"
   ]
  },
  {
   "cell_type": "code",
   "execution_count": 4,
   "metadata": {},
   "outputs": [
    {
     "name": "stdout",
     "output_type": "stream",
     "text": [
      "Creating data...\n",
      "Data successfully created...\n"
     ]
    }
   ],
   "source": [
    "print(\"Creating data...\")\n",
    "create_data()\n",
    "print(\"Data successfully created...\")"
   ]
  },
  {
   "cell_type": "code",
   "execution_count": 5,
   "metadata": {},
   "outputs": [
    {
     "name": "stdout",
     "output_type": "stream",
     "text": [
      "Shuffling data...\n",
      "Data successfully shuffled...\n"
     ]
    }
   ],
   "source": [
    "print(\"Shuffling data...\")\n",
    "random.shuffle(data)\n",
    "print(\"Data successfully shuffled...\")"
   ]
  },
  {
   "cell_type": "code",
   "execution_count": 6,
   "metadata": {},
   "outputs": [],
   "source": [
    "X_data = []\n",
    "y = []"
   ]
  },
  {
   "cell_type": "code",
   "execution_count": 7,
   "metadata": {},
   "outputs": [
    {
     "name": "stdout",
     "output_type": "stream",
     "text": [
      "X and y data successfully created...\n"
     ]
    }
   ],
   "source": [
    "# create X with the features (the images) and y with the targets (labels)\n",
    "for features, label in data:\n",
    "    X_data.append(features)\n",
    "    y.append(label)\n",
    "\n",
    "print(\"X and y data successfully created...\")"
   ]
  },
  {
   "cell_type": "code",
   "execution_count": 8,
   "metadata": {},
   "outputs": [
    {
     "name": "stdout",
     "output_type": "stream",
     "text": [
      "Reshaping X data...\n",
      "X data successfully reshaped...\n"
     ]
    }
   ],
   "source": [
    "# reshape the image to be on the correct format for tensorflow (nº images, width, height, channels)\n",
    "print(\"Reshaping X data...\")\n",
    "X = np.array(X_data).reshape(len(X_data), img_size, img_size, 1)\n",
    "print(\"X data successfully reshaped...\")"
   ]
  },
  {
   "cell_type": "code",
   "execution_count": 9,
   "metadata": {},
   "outputs": [
    {
     "name": "stdout",
     "output_type": "stream",
     "text": [
      "Saving the data...\n",
      "Data successfully saved\n"
     ]
    }
   ],
   "source": [
    "print(\"Saving the data...\")\n",
    "#modify address accordingly\n",
    "hf = h5py.File(\"ConcreteImages/concrete_crack_image_data.h5\", \"w\")\n",
    "hf.create_dataset(\"X_concrete\", data = X, compression = \"gzip\")\n",
    "hf.create_dataset(\"y_concrete\", data = y, compression = \"gzip\")\n",
    "hf.close()\n",
    "print(\"Data successfully saved\")"
   ]
  }
 ],
 "metadata": {
  "kernelspec": {
   "display_name": "Python 3",
   "language": "python",
   "name": "python3"
  },
  "language_info": {
   "codemirror_mode": {
    "name": "ipython",
    "version": 3
   },
   "file_extension": ".py",
   "mimetype": "text/x-python",
   "name": "python",
   "nbconvert_exporter": "python",
   "pygments_lexer": "ipython3",
   "version": "3.7.3"
  }
 },
 "nbformat": 4,
 "nbformat_minor": 4
}
